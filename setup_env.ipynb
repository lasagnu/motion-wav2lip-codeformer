{
 "cells": [
  {
   "cell_type": "code",
   "execution_count": 1,
   "metadata": {},
   "outputs": [
    {
     "name": "stdout",
     "output_type": "stream",
     "text": [
      "Cloning into 'Wav2Lip'...\n",
      "remote: Enumerating objects: 378, done.\u001b[K\n",
      "remote: Total 378 (delta 0), reused 0 (delta 0), pack-reused 378\u001b[K\n",
      "Receiving objects: 100% (378/378), 526.97 KiB | 3.63 MiB/s, done.\n",
      "Resolving deltas: 100% (205/205), done.\n",
      "fatal: destination path 'Wav2Lip' already exists and is not an empty directory.\n"
     ]
    }
   ],
   "source": [
    "!rm -rf ./Wav2Lip\n",
    "!git clone https://github.com/zabique/Wav2Lip\n",
    "\n",
    "!rm -rf ./CodeFormer\n",
    "!git clone https://github.com/sczhou/CodeFormer.git"
   ]
  },
  {
   "cell_type": "code",
   "execution_count": null,
   "metadata": {},
   "outputs": [],
   "source": [
    "%pip install -r ./requirements.txt\n",
    "\n",
    "%pip install -r ./Wav2Lip/requirements.txt\n",
    "\n",
    "%pip install https://raw.githubusercontent.com/AwaleSajil/ghc/master/ghc-1.0-py3-none-any.whl"
   ]
  },
  {
   "cell_type": "code",
   "execution_count": null,
   "metadata": {},
   "outputs": [],
   "source": [
    "#download the pretrained model\n",
    "!wget 'https://iiitaphyd-my.sharepoint.com/personal/radrabha_m_research_iiit_ac_in/_layouts/15/download.aspx?share=EdjI7bZlgApMqsVoEUUXpLsBxqXbn5z8VTmoxp55YNDcIA' -O './Wav2Lip/checkpoints/wav2lip_gan.pth'\n",
    "\n",
    "#download pretrained model for face detection\n",
    "!wget \"https://www.adrianbulat.com/downloads/python-fan/s3fd-619a316812.pth\" -O \"./Wav2Lip/face_detection/detection/sfd/s3fd.pth\""
   ]
  },
  {
   "cell_type": "code",
   "execution_count": null,
   "metadata": {},
   "outputs": [],
   "source": [
    "%cd ./CodeFormer\n",
    "!python scripts/download_pretrained_models.py facelib\n",
    "!python scripts/download_pretrained_models.py CodeFormer"
   ]
  },
  {
   "cell_type": "code",
   "execution_count": null,
   "metadata": {},
   "outputs": [],
   "source": [
    "%cd ./CodeFormer\n",
    "!python basicsr/setup.py develop"
   ]
  },
  {
   "cell_type": "code",
   "execution_count": null,
   "metadata": {},
   "outputs": [],
   "source": [
    "%cd /content\n",
    "!mkdir output \n",
    "!mkdir input "
   ]
  }
 ],
 "metadata": {
  "kernelspec": {
   "display_name": ".venv",
   "language": "python",
   "name": "python3"
  },
  "language_info": {
   "codemirror_mode": {
    "name": "ipython",
    "version": 3
   },
   "file_extension": ".py",
   "mimetype": "text/x-python",
   "name": "python",
   "nbconvert_exporter": "python",
   "pygments_lexer": "ipython3",
   "version": "3.11.6"
  }
 },
 "nbformat": 4,
 "nbformat_minor": 2
}
